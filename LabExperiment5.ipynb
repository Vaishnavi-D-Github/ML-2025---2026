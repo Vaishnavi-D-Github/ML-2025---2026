{
  "nbformat": 4,
  "nbformat_minor": 0,
  "metadata": {
    "colab": {
      "provenance": []
    },
    "kernelspec": {
      "name": "python3",
      "display_name": "Python 3"
    },
    "language_info": {
      "name": "python"
    }
  },
  "cells": [
    {
      "cell_type": "code",
      "execution_count": 1,
      "metadata": {
        "colab": {
          "base_uri": "https://localhost:8080/"
        },
        "id": "9oabk08LUBZA",
        "outputId": "5e6ed643-e947-4dd8-de0f-f18153018f1c"
      },
      "outputs": [
        {
          "output_type": "stream",
          "name": "stdout",
          "text": [
            "Sample data:\n",
            "    MedInc  HouseAge  AveRooms  AveBedrms  Population  AveOccup  Latitude  \\\n",
            "0  8.3252      41.0  6.984127   1.023810       322.0  2.555556     37.88   \n",
            "1  8.3014      21.0  6.238137   0.971880      2401.0  2.109842     37.86   \n",
            "2  7.2574      52.0  8.288136   1.073446       496.0  2.802260     37.85   \n",
            "3  5.6431      52.0  5.817352   1.073059       558.0  2.547945     37.85   \n",
            "4  3.8462      52.0  6.281853   1.081081       565.0  2.181467     37.85   \n",
            "\n",
            "   Longitude  MedHouseVal  median_house_value  \n",
            "0    -122.23        4.526               4.526  \n",
            "1    -122.22        3.585               3.585  \n",
            "2    -122.24        3.521               3.521  \n",
            "3    -122.25        3.413               3.413  \n",
            "4    -122.25        3.422               3.422   \n",
            "\n",
            "Root Mean Squared Error (RMSE): 0.746\n",
            "R² Score: 0.575\n"
          ]
        }
      ],
      "source": [
        "# Importing required libraries\n",
        "import pandas as pd\n",
        "import numpy as np\n",
        "from sklearn.datasets import fetch_california_housing\n",
        "from sklearn.model_selection import train_test_split\n",
        "from sklearn.linear_model import LinearRegression\n",
        "from sklearn.metrics import mean_squared_error, r2_score\n",
        "\n",
        "# =======================\n",
        "# 1️⃣ Load California Dataset\n",
        "# =======================\n",
        "california = fetch_california_housing(as_frame=True)\n",
        "df = california.frame\n",
        "\n",
        "# Add the target column manually\n",
        "df['median_house_value'] = df['MedHouseVal']\n",
        "\n",
        "# =======================\n",
        "# 2️⃣ Display first few rows\n",
        "# =======================\n",
        "print(\"Sample data:\\n\", df.head(), \"\\n\")\n",
        "\n",
        "# =======================\n",
        "# 3️⃣ Select features\n",
        "# =======================\n",
        "# Original dataset doesn’t contain 'total_bedrooms' or 'ocean_proximity',\n",
        "# so let’s assume we’re working with available numeric features.\n",
        "\n",
        "# Features available in sklearn’s dataset:\n",
        "# ['MedInc', 'HouseAge', 'AveRooms', 'AveBedrms', 'Population', 'AveOccup', 'Latitude', 'Longitude']\n",
        "\n",
        "# We'll rename columns to match your requested feature names for clarity:\n",
        "df = df.rename(columns={\n",
        "    'Longitude': 'longitude',\n",
        "    'Latitude': 'latitude',\n",
        "    'HouseAge': 'housing_median_age',\n",
        "    'AveRooms': 'total_rooms',\n",
        "    'AveBedrms': 'total_bedrooms',\n",
        "    'Population': 'population',\n",
        "    'MedInc': 'median_income'\n",
        "})\n",
        "\n",
        "# Select columns similar to your list\n",
        "features = ['longitude', 'latitude', 'housing_median_age',\n",
        "            'total_rooms', 'total_bedrooms', 'population', 'median_income']\n",
        "\n",
        "X = df[features]\n",
        "y = df['median_house_value']\n",
        "\n",
        "# =======================\n",
        "# 4️⃣ Split into train and test sets\n",
        "# =======================\n",
        "X_train, X_test, y_train, y_test = train_test_split(X, y, test_size=0.2, random_state=42)\n",
        "\n",
        "# =======================\n",
        "# 5️⃣ Train Linear Regression model\n",
        "# =======================\n",
        "model = LinearRegression()\n",
        "model.fit(X_train, y_train)\n",
        "\n",
        "# =======================\n",
        "# 6️⃣ Make predictions\n",
        "# =======================\n",
        "y_pred = model.predict(X_test)\n",
        "\n",
        "# =======================\n",
        "# 7️⃣ Evaluate model\n",
        "# =======================\n",
        "rmse = np.sqrt(mean_squared_error(y_test, y_pred))\n",
        "r2 = r2_score(y_test, y_pred)\n",
        "\n",
        "print(f\"Root Mean Squared Error (RMSE): {rmse:.3f}\")\n",
        "print(f\"R² Score: {r2:.3f}\")\n"
      ]
    }
  ]
}